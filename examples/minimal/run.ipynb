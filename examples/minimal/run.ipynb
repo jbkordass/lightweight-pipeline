{
 "cells": [
  {
   "cell_type": "markdown",
   "metadata": {},
   "source": [
    "# Example pipeline\n",
    "\n",
    "## Run\n",
    "\n",
    "Make sure `lw_pipeline` is installed first, or set `pipeline_path` manually to a location of the code."
   ]
  },
  {
   "cell_type": "code",
   "execution_count": null,
   "metadata": {},
   "outputs": [],
   "source": [
    "# make sure we do not have to restart the kernel after changing the pipeline code\n",
    "%load_ext autoreload\n",
    "%autoreload 2\n",
    "\n",
    "# determine the path to the pipeline to run the pipeline interactively\n",
    "import importlib.util\n",
    "\n",
    "pipeline_path = \"lw_pipeline\"\n",
    "spec = importlib.util.find_spec(pipeline_path)\n",
    "pipeline_path = spec.origin.replace(\"__init__.py\", \"__main__.py\")\n",
    "pipeline_path"
   ]
  },
  {
   "cell_type": "code",
   "execution_count": null,
   "metadata": {},
   "outputs": [],
   "source": [
    "%run $pipeline_path -c config.py  -r"
   ]
  },
  {
   "cell_type": "markdown",
   "metadata": {},
   "source": [
    "You could run everything non-interactively: simply replace `%run ...` by `!lw_pipeline`."
   ]
  },
  {
   "cell_type": "markdown",
   "metadata": {},
   "source": [
    "# Report\n",
    "\n",
    "Generate a report using the `--report` option. Use `--help` to see further options with explanations (e.g. `--list-derivatives` or `--full-report`)."
   ]
  },
  {
   "cell_type": "code",
   "execution_count": null,
   "metadata": {},
   "outputs": [],
   "source": [
    "%run $pipeline_path -c config.py --report"
   ]
  },
  {
   "cell_type": "markdown",
   "metadata": {},
   "source": [
    "## View Documentation\n",
    "\n",
    "If you add new steps/add utilities, make sure to add the class names to `doc/api.rst`."
   ]
  },
  {
   "cell_type": "code",
   "execution_count": null,
   "metadata": {},
   "outputs": [],
   "source": [
    "!make build-doc"
   ]
  }
 ],
 "metadata": {
  "kernelspec": {
   "display_name": "ieeg_locate",
   "language": "python",
   "name": "python3"
  },
  "language_info": {
   "codemirror_mode": {
    "name": "ipython",
    "version": 3
   },
   "file_extension": ".py",
   "mimetype": "text/x-python",
   "name": "python",
   "nbconvert_exporter": "python",
   "pygments_lexer": "ipython3",
   "version": "3.12.5"
  }
 },
 "nbformat": 4,
 "nbformat_minor": 2
}
